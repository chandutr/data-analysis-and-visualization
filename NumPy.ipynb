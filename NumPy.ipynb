{
 "cells": [
  {
   "cell_type": "code",
   "execution_count": 1,
   "id": "647c6174-e437-4edf-a4cd-9e6353bd56ae",
   "metadata": {},
   "outputs": [],
   "source": [
    "x=2"
   ]
  },
  {
   "cell_type": "code",
   "execution_count": 2,
   "id": "7e7ed078-eaa5-4986-ad37-11b84714942b",
   "metadata": {},
   "outputs": [
    {
     "data": {
      "text/plain": [
       "2"
      ]
     },
     "execution_count": 2,
     "metadata": {},
     "output_type": "execute_result"
    }
   ],
   "source": [
    "x"
   ]
  },
  {
   "cell_type": "code",
   "execution_count": 3,
   "id": "751a3c47-ab20-4d14-a365-1c1ac18de770",
   "metadata": {},
   "outputs": [],
   "source": [
    "import numpy as np"
   ]
  },
  {
   "cell_type": "code",
   "execution_count": 4,
   "id": "8ce873c7-f1ae-4a8f-b45f-187fe50d6991",
   "metadata": {},
   "outputs": [
    {
     "data": {
      "text/plain": [
       "array([1, 2, 3])"
      ]
     },
     "execution_count": 4,
     "metadata": {},
     "output_type": "execute_result"
    }
   ],
   "source": [
    "b=np.array([1,2,3])\n",
    "b"
   ]
  },
  {
   "cell_type": "code",
   "execution_count": 5,
   "id": "d1e3a21c-0734-47c4-aeae-b3c7e5872e85",
   "metadata": {},
   "outputs": [
    {
     "data": {
      "text/plain": [
       "array([3, 4, 5])"
      ]
     },
     "execution_count": 5,
     "metadata": {},
     "output_type": "execute_result"
    }
   ],
   "source": [
    "d=b+2\n",
    "d"
   ]
  },
  {
   "cell_type": "code",
   "execution_count": 6,
   "id": "c9632a45-d89e-4ca9-bf79-a12f8ec1de8c",
   "metadata": {},
   "outputs": [
    {
     "data": {
      "text/plain": [
       "array([2, 3, 4])"
      ]
     },
     "execution_count": 6,
     "metadata": {},
     "output_type": "execute_result"
    }
   ],
   "source": [
    "e=d-1\n",
    "e"
   ]
  },
  {
   "cell_type": "code",
   "execution_count": 7,
   "id": "ade499f2-9315-4f8f-a2d5-605bf609ef8f",
   "metadata": {},
   "outputs": [
    {
     "data": {
      "text/plain": [
       "array([[1, 2],\n",
       "       [3, 4]])"
      ]
     },
     "execution_count": 7,
     "metadata": {},
     "output_type": "execute_result"
    }
   ],
   "source": [
    "c=np.array([[1,2],[3,4]])\n",
    "c"
   ]
  },
  {
   "cell_type": "code",
   "execution_count": 8,
   "id": "f8421ed4-429e-48ec-9469-ea10d912bf6a",
   "metadata": {},
   "outputs": [
    {
     "data": {
      "text/plain": [
       "array([[1, 2, 3],\n",
       "       [4, 5, 6]])"
      ]
     },
     "execution_count": 8,
     "metadata": {},
     "output_type": "execute_result"
    }
   ],
   "source": [
    "f=np.array([[1,2,3],[4,5,6]])\n",
    "f"
   ]
  },
  {
   "cell_type": "code",
   "execution_count": 9,
   "id": "4e44d46a-6816-47dc-8177-1e18e4b1df7c",
   "metadata": {},
   "outputs": [
    {
     "data": {
      "text/plain": [
       "(2, 3)"
      ]
     },
     "execution_count": 9,
     "metadata": {},
     "output_type": "execute_result"
    }
   ],
   "source": [
    "f.shape"
   ]
  },
  {
   "cell_type": "code",
   "execution_count": 10,
   "id": "a9e82297-6b79-4b5f-86ea-0af7fd4b672a",
   "metadata": {},
   "outputs": [
    {
     "data": {
      "text/plain": [
       "array([[1, 2, 3],\n",
       "       [4, 5, 6],\n",
       "       [7, 8, 9]])"
      ]
     },
     "execution_count": 10,
     "metadata": {},
     "output_type": "execute_result"
    }
   ],
   "source": [
    "s=np.array([[1,2,3],[4,5,6],[7,8,9]])\n",
    "s"
   ]
  },
  {
   "cell_type": "code",
   "execution_count": 11,
   "id": "2f08843e-71d5-413f-810d-0f7a2f4604d8",
   "metadata": {},
   "outputs": [
    {
     "data": {
      "text/plain": [
       "array([[[1, 2],\n",
       "        [3, 4]],\n",
       "\n",
       "       [[5, 6],\n",
       "        [7, 8]]])"
      ]
     },
     "execution_count": 11,
     "metadata": {},
     "output_type": "execute_result"
    }
   ],
   "source": [
    "g=np.array([[[1,2],[3,4]],\n",
    "            [[5,6],[7,8]]])\n",
    "g"
   ]
  },
  {
   "cell_type": "code",
   "execution_count": 12,
   "id": "be8f126a-537d-47a9-814d-2a875ddb5214",
   "metadata": {},
   "outputs": [
    {
     "data": {
      "text/plain": [
       "(2, 2, 2)"
      ]
     },
     "execution_count": 12,
     "metadata": {},
     "output_type": "execute_result"
    }
   ],
   "source": [
    "g.shape #(2, 2, 2)---> 2 layers,2 rows,2 columns"
   ]
  },
  {
   "cell_type": "code",
   "execution_count": 13,
   "id": "b9fea91c-c230-4304-b02c-20d343ebb8f2",
   "metadata": {},
   "outputs": [
    {
     "data": {
      "text/plain": [
       "array([[[1, 2],\n",
       "        [3, 4]],\n",
       "\n",
       "       [[5, 6],\n",
       "        [7, 8]],\n",
       "\n",
       "       [[9, 1],\n",
       "        [2, 3]]])"
      ]
     },
     "execution_count": 13,
     "metadata": {},
     "output_type": "execute_result"
    }
   ],
   "source": [
    "h=np.array([[[1,2],[3,4]],\n",
    "             [[5,6],[7,8]],\n",
    "             [[9,1],[2,3]]])\n",
    "h"
   ]
  },
  {
   "cell_type": "code",
   "execution_count": 14,
   "id": "cc6f1312-88fa-43d3-bc61-764053fd3bc7",
   "metadata": {},
   "outputs": [
    {
     "data": {
      "text/plain": [
       "(3, 2, 2)"
      ]
     },
     "execution_count": 14,
     "metadata": {},
     "output_type": "execute_result"
    }
   ],
   "source": [
    "h.shape"
   ]
  },
  {
   "cell_type": "code",
   "execution_count": 15,
   "id": "bad552e0-2a88-4816-9a1f-f7a4d3ce6056",
   "metadata": {},
   "outputs": [
    {
     "data": {
      "text/plain": [
       "array([[[3, 0, 0, 5],\n",
       "        [3, 8, 1, 2]],\n",
       "\n",
       "       [[1, 2, 6, 2],\n",
       "        [2, 3, 4, 5]],\n",
       "\n",
       "       [[9, 0, 2, 7],\n",
       "        [6, 8, 5, 3]]])"
      ]
     },
     "execution_count": 15,
     "metadata": {},
     "output_type": "execute_result"
    }
   ],
   "source": [
    "i=np.array([[[3,0,0,5],[3,8,1,2]],\n",
    "            [[1,2,6,2],[2,3,4,5]],\n",
    "            [[9,0,2,7],[6,8,5,3]]])\n",
    "i"
   ]
  },
  {
   "cell_type": "code",
   "execution_count": 16,
   "id": "1a2e9cc7-ed8a-40be-b54e-cfff7b7a95ff",
   "metadata": {},
   "outputs": [
    {
     "data": {
      "text/plain": [
       "(3, 2, 4)"
      ]
     },
     "execution_count": 16,
     "metadata": {},
     "output_type": "execute_result"
    }
   ],
   "source": [
    "i.shape #to check shape of array"
   ]
  },
  {
   "cell_type": "code",
   "execution_count": 17,
   "id": "17aeee64-9b03-43d6-bbd4-f8577b8beb1e",
   "metadata": {},
   "outputs": [
    {
     "data": {
      "text/plain": [
       "3"
      ]
     },
     "execution_count": 17,
     "metadata": {},
     "output_type": "execute_result"
    }
   ],
   "source": [
    "i.ndim #for checking the dimension of array"
   ]
  },
  {
   "cell_type": "code",
   "execution_count": 18,
   "id": "fbf09dd4-40e8-41f4-b192-30a55137176e",
   "metadata": {},
   "outputs": [
    {
     "data": {
      "text/plain": [
       "24"
      ]
     },
     "execution_count": 18,
     "metadata": {},
     "output_type": "execute_result"
    }
   ],
   "source": [
    "i.size #to check the no of elements in array"
   ]
  },
  {
   "cell_type": "code",
   "execution_count": 19,
   "id": "71a7bb3c-b088-4292-8780-ed390d78b5b2",
   "metadata": {},
   "outputs": [
    {
     "data": {
      "text/plain": [
       "dtype('int32')"
      ]
     },
     "execution_count": 19,
     "metadata": {},
     "output_type": "execute_result"
    }
   ],
   "source": [
    "i.dtype #to check the datatype of array"
   ]
  },
  {
   "cell_type": "code",
   "execution_count": 20,
   "id": "2500e0d5-9b8c-4034-a12c-52384ecaded7",
   "metadata": {},
   "outputs": [
    {
     "data": {
      "text/plain": [
       "array([[[3., 0., 0., 5.],\n",
       "        [3., 8., 1., 2.]],\n",
       "\n",
       "       [[1., 2., 6., 2.],\n",
       "        [2., 3., 4., 5.]],\n",
       "\n",
       "       [[9., 0., 2., 7.],\n",
       "        [6., 8., 5., 3.]]])"
      ]
     },
     "execution_count": 20,
     "metadata": {},
     "output_type": "execute_result"
    }
   ],
   "source": [
    "i.astype('float') #changes the datatype of an array"
   ]
  },
  {
   "cell_type": "code",
   "execution_count": 21,
   "id": "c89dc504-654f-4242-b238-15f93e53c6cb",
   "metadata": {},
   "outputs": [
    {
     "data": {
      "text/plain": [
       "array([[[3, 0, 0, 5],\n",
       "        [3, 8, 1, 2]],\n",
       "\n",
       "       [[1, 2, 6, 2],\n",
       "        [2, 3, 4, 5]],\n",
       "\n",
       "       [[9, 0, 2, 7],\n",
       "        [6, 8, 5, 3]]])"
      ]
     },
     "execution_count": 21,
     "metadata": {},
     "output_type": "execute_result"
    }
   ],
   "source": [
    "i.astype(int)"
   ]
  },
  {
   "cell_type": "code",
   "execution_count": 22,
   "id": "6a45d6ed-4565-4c95-bc17-1ac767e1e40f",
   "metadata": {},
   "outputs": [
    {
     "data": {
      "text/plain": [
       "array([1., 1., 1.])"
      ]
     },
     "execution_count": 22,
     "metadata": {},
     "output_type": "execute_result"
    }
   ],
   "source": [
    "np.ones(3)"
   ]
  },
  {
   "cell_type": "code",
   "execution_count": 23,
   "id": "2114ec8d-5d42-4871-9684-7806aaff8199",
   "metadata": {},
   "outputs": [
    {
     "data": {
      "text/plain": [
       "array([1, 1, 1, 1, 1])"
      ]
     },
     "execution_count": 23,
     "metadata": {},
     "output_type": "execute_result"
    }
   ],
   "source": [
    "np.ones(5,dtype='int')"
   ]
  },
  {
   "cell_type": "code",
   "execution_count": 24,
   "id": "bb9cec05-20b3-4d51-9dde-1afffa413efa",
   "metadata": {},
   "outputs": [
    {
     "data": {
      "text/plain": [
       "array([0., 0., 0., 0.])"
      ]
     },
     "execution_count": 24,
     "metadata": {},
     "output_type": "execute_result"
    }
   ],
   "source": [
    "np.zeros(4)"
   ]
  },
  {
   "cell_type": "code",
   "execution_count": 25,
   "id": "acdecf14-6549-4e35-b377-04e0da745676",
   "metadata": {},
   "outputs": [
    {
     "data": {
      "text/plain": [
       "array([0, 0, 0, 0])"
      ]
     },
     "execution_count": 25,
     "metadata": {},
     "output_type": "execute_result"
    }
   ],
   "source": [
    "np.zeros(4,dtype='int')"
   ]
  },
  {
   "cell_type": "code",
   "execution_count": 26,
   "id": "2c149cfc-481d-4d62-8833-44865aca7373",
   "metadata": {},
   "outputs": [
    {
     "data": {
      "text/plain": [
       "array([0.22742664, 0.54209453, 0.30846157])"
      ]
     },
     "execution_count": 26,
     "metadata": {},
     "output_type": "execute_result"
    }
   ],
   "source": [
    "np.random.random(3)"
   ]
  },
  {
   "cell_type": "code",
   "execution_count": 27,
   "id": "826e74e8-d153-4c70-a7b5-e6d93f6c11cc",
   "metadata": {},
   "outputs": [
    {
     "data": {
      "text/plain": [
       "array([[4, 2, 1],\n",
       "       [3, 2, 0]])"
      ]
     },
     "execution_count": 27,
     "metadata": {},
     "output_type": "execute_result"
    }
   ],
   "source": [
    "np.random.randint(0,5,size=(2,3)) #0,5 is range, size=(2,3) is 2 layer 3 rows"
   ]
  },
  {
   "cell_type": "code",
   "execution_count": 28,
   "id": "13010267-dbdf-47b0-9fc6-a32df2cea47b",
   "metadata": {},
   "outputs": [
    {
     "data": {
      "text/plain": [
       "array([[[20, 20, 25, 24],\n",
       "        [28, 26, 21, 26],\n",
       "        [27, 29, 22, 27]],\n",
       "\n",
       "       [[25, 25, 25, 20],\n",
       "        [29, 22, 29, 29],\n",
       "        [28, 25, 24, 28]]])"
      ]
     },
     "execution_count": 28,
     "metadata": {},
     "output_type": "execute_result"
    }
   ],
   "source": [
    "t=np.random.randint(20,30,size=(2,3,4)) #size=(2,3,4) 2 layers 3 rows 4 columns\n",
    "t"
   ]
  },
  {
   "cell_type": "code",
   "execution_count": 29,
   "id": "ecd849d9-e71c-4575-9bca-dc2842cd51b0",
   "metadata": {},
   "outputs": [
    {
     "data": {
      "text/plain": [
       "array([[6, 6],\n",
       "       [6, 6]])"
      ]
     },
     "execution_count": 29,
     "metadata": {},
     "output_type": "execute_result"
    }
   ],
   "source": [
    "np.full((2,2),6) #(2,2) 2 rows and 2 columns which are filled with 6 "
   ]
  },
  {
   "cell_type": "code",
   "execution_count": 78,
   "id": "32729acf-982d-4b20-8ad5-71966cb485ca",
   "metadata": {},
   "outputs": [
    {
     "data": {
      "text/plain": [
       "array([[[9, 9, 9, 9],\n",
       "        [9, 9, 9, 9],\n",
       "        [9, 9, 9, 9]],\n",
       "\n",
       "       [[9, 9, 9, 9],\n",
       "        [9, 9, 9, 9],\n",
       "        [9, 9, 9, 9]]])"
      ]
     },
     "execution_count": 78,
     "metadata": {},
     "output_type": "execute_result"
    }
   ],
   "source": [
    "np.full((2,3,4),9)"
   ]
  },
  {
   "cell_type": "code",
   "execution_count": 31,
   "id": "3b195602-3efb-4e49-9f2e-54db550bb7fb",
   "metadata": {},
   "outputs": [
    {
     "data": {
      "text/plain": [
       "array([[1., 0., 0.],\n",
       "       [0., 1., 0.],\n",
       "       [0., 0., 1.]])"
      ]
     },
     "execution_count": 31,
     "metadata": {},
     "output_type": "execute_result"
    }
   ],
   "source": [
    "np.identity(3) #given an identity matrix in which the diagonal element will be 1 rest all will be zero by default it is float "
   ]
  },
  {
   "cell_type": "code",
   "execution_count": 32,
   "id": "77bd9f96-2e18-4116-b763-c36de614ae5d",
   "metadata": {},
   "outputs": [
    {
     "data": {
      "text/plain": [
       "array([[1, 0, 0, 0],\n",
       "       [0, 1, 0, 0],\n",
       "       [0, 0, 1, 0],\n",
       "       [0, 0, 0, 1]])"
      ]
     },
     "execution_count": 32,
     "metadata": {},
     "output_type": "execute_result"
    }
   ],
   "source": [
    "np.identity(4,dtype='int')"
   ]
  },
  {
   "cell_type": "code",
   "execution_count": 33,
   "id": "78d670f9-a6e5-4f0a-b5eb-50e9ef2d77ba",
   "metadata": {},
   "outputs": [
    {
     "data": {
      "text/plain": [
       "array([10, 11, 12, 13, 15, 16, 17, 18, 20])"
      ]
     },
     "execution_count": 33,
     "metadata": {},
     "output_type": "execute_result"
    }
   ],
   "source": [
    "#to get the number of evenly spaced values between intervals\n",
    "#parameters for the function -np.linspace(start,stop,num,endpoint,retstep,dtype)\n",
    "#dtype is the output array\n",
    "np.linspace(10,20,9,dtype='int')"
   ]
  },
  {
   "cell_type": "code",
   "execution_count": 34,
   "id": "da84d058-8dff-44cb-9827-dec31296f629",
   "metadata": {},
   "outputs": [
    {
     "data": {
      "text/plain": [
       "(array([10, 11, 12, 13, 15, 16, 17, 18]), 1.25)"
      ]
     },
     "execution_count": 34,
     "metadata": {},
     "output_type": "execute_result"
    }
   ],
   "source": [
    "np.linspace(10,20,8,endpoint=False,retstep=True,dtype='int')"
   ]
  },
  {
   "cell_type": "code",
   "execution_count": 35,
   "id": "abc8b46c-e02e-4bf1-9d05-28f2ce1cfb62",
   "metadata": {},
   "outputs": [
    {
     "data": {
      "text/plain": [
       "array([0, 1, 2, 3, 4, 5, 6, 7, 8, 9])"
      ]
     },
     "execution_count": 35,
     "metadata": {},
     "output_type": "execute_result"
    }
   ],
   "source": [
    "np.arange(10)"
   ]
  },
  {
   "cell_type": "code",
   "execution_count": 36,
   "id": "aa0cb9d1-102e-4859-a6da-fd676085d3a3",
   "metadata": {},
   "outputs": [
    {
     "data": {
      "text/plain": [
       "array([10, 11, 12, 13, 14, 15, 16, 17, 18, 19])"
      ]
     },
     "execution_count": 36,
     "metadata": {},
     "output_type": "execute_result"
    }
   ],
   "source": [
    "np.arange(10,20)"
   ]
  },
  {
   "cell_type": "code",
   "execution_count": 37,
   "id": "c8aa6216-3391-4462-ba51-cdaad3aae7d9",
   "metadata": {},
   "outputs": [
    {
     "data": {
      "text/plain": [
       "array([10, 12, 14, 16, 18])"
      ]
     },
     "execution_count": 37,
     "metadata": {},
     "output_type": "execute_result"
    }
   ],
   "source": [
    "np.arange(10,20,2)"
   ]
  },
  {
   "cell_type": "code",
   "execution_count": 38,
   "id": "93e648e5-b8f2-4847-9e8d-9aaded799d56",
   "metadata": {},
   "outputs": [
    {
     "data": {
      "text/plain": [
       "array([10, 11, 12, 13, 14, 15, 16, 17, 18, 19])"
      ]
     },
     "execution_count": 38,
     "metadata": {},
     "output_type": "execute_result"
    }
   ],
   "source": [
    "#indexing and slicing\n",
    "b=np.arange(10,20)\n",
    "b"
   ]
  },
  {
   "cell_type": "code",
   "execution_count": 39,
   "id": "dc4e55ca-a076-48a2-a16b-0909865fd9bb",
   "metadata": {},
   "outputs": [
    {
     "data": {
      "text/plain": [
       "array([10, 11, 12, 13, 14, 15, 16, 17, 18, 19])"
      ]
     },
     "execution_count": 39,
     "metadata": {},
     "output_type": "execute_result"
    }
   ],
   "source": [
    "b[:]"
   ]
  },
  {
   "cell_type": "code",
   "execution_count": 40,
   "id": "842ebd8b-0cba-4e12-85f4-c0c274221b37",
   "metadata": {},
   "outputs": [
    {
     "data": {
      "text/plain": [
       "array([10, 11])"
      ]
     },
     "execution_count": 40,
     "metadata": {},
     "output_type": "execute_result"
    }
   ],
   "source": [
    "b[0:2]"
   ]
  },
  {
   "cell_type": "code",
   "execution_count": 41,
   "id": "f84bd340-8bd5-4fa6-beac-ec087f5cd45c",
   "metadata": {},
   "outputs": [
    {
     "data": {
      "text/plain": [
       "array([16, 17, 18, 19])"
      ]
     },
     "execution_count": 41,
     "metadata": {},
     "output_type": "execute_result"
    }
   ],
   "source": [
    "b[6:]"
   ]
  },
  {
   "cell_type": "code",
   "execution_count": 42,
   "id": "be0bb222-aa1c-4fb5-8658-2f3e82185c11",
   "metadata": {},
   "outputs": [
    {
     "data": {
      "text/plain": [
       "array([12])"
      ]
     },
     "execution_count": 42,
     "metadata": {},
     "output_type": "execute_result"
    }
   ],
   "source": [
    "b[2:3]"
   ]
  },
  {
   "cell_type": "code",
   "execution_count": 43,
   "id": "bc724b4e-43ca-446d-8f8c-4437db1470db",
   "metadata": {},
   "outputs": [
    {
     "data": {
      "text/plain": [
       "array([10, 11, 12, 13, 14, 15, 16, 17])"
      ]
     },
     "execution_count": 43,
     "metadata": {},
     "output_type": "execute_result"
    }
   ],
   "source": [
    "b[:8]"
   ]
  },
  {
   "cell_type": "code",
   "execution_count": 44,
   "id": "fb13f720-2e68-433b-a07c-4571865354c0",
   "metadata": {},
   "outputs": [
    {
     "data": {
      "text/plain": [
       "array([[1, 2],\n",
       "       [3, 4],\n",
       "       [5, 6]])"
      ]
     },
     "execution_count": 44,
     "metadata": {},
     "output_type": "execute_result"
    }
   ],
   "source": [
    "d=np.array([[1,2],[3,4],[5,6]])\n",
    "d"
   ]
  },
  {
   "cell_type": "code",
   "execution_count": 45,
   "id": "1c1c405f-adc8-4cac-8cd4-6e1ddfb0ea74",
   "metadata": {},
   "outputs": [
    {
     "data": {
      "text/plain": [
       "array([[4],\n",
       "       [6]])"
      ]
     },
     "execution_count": 45,
     "metadata": {},
     "output_type": "execute_result"
    }
   ],
   "source": [
    "d[1:3,1:3]"
   ]
  },
  {
   "cell_type": "code",
   "execution_count": 46,
   "id": "9880e494-5e49-46bf-8d6d-b2463a1941b0",
   "metadata": {},
   "outputs": [
    {
     "data": {
      "text/plain": [
       "5"
      ]
     },
     "execution_count": 46,
     "metadata": {},
     "output_type": "execute_result"
    }
   ],
   "source": [
    "d[2,0]"
   ]
  },
  {
   "cell_type": "code",
   "execution_count": 47,
   "id": "388553aa-9852-49be-ae31-3affb384b7ee",
   "metadata": {},
   "outputs": [
    {
     "data": {
      "text/plain": [
       "array([[3, 4],\n",
       "       [5, 6]])"
      ]
     },
     "execution_count": 47,
     "metadata": {},
     "output_type": "execute_result"
    }
   ],
   "source": [
    "d[1:3]"
   ]
  },
  {
   "cell_type": "code",
   "execution_count": 48,
   "id": "2fed7115-2a9a-4dc3-8e6c-9986351d1b90",
   "metadata": {},
   "outputs": [
    {
     "data": {
      "text/plain": [
       "array([2, 4])"
      ]
     },
     "execution_count": 48,
     "metadata": {},
     "output_type": "execute_result"
    }
   ],
   "source": [
    "d[0:2,1]"
   ]
  },
  {
   "cell_type": "code",
   "execution_count": 49,
   "id": "78fb1884-c15e-4b01-8796-6d2c1a6cb1ab",
   "metadata": {},
   "outputs": [
    {
     "data": {
      "text/plain": [
       "array([5])"
      ]
     },
     "execution_count": 49,
     "metadata": {},
     "output_type": "execute_result"
    }
   ],
   "source": [
    "d[2,0:1]"
   ]
  },
  {
   "cell_type": "code",
   "execution_count": 50,
   "id": "c4097d61-a033-41d8-9723-5b2d7ece2c33",
   "metadata": {},
   "outputs": [
    {
     "data": {
      "text/plain": [
       "4"
      ]
     },
     "execution_count": 50,
     "metadata": {},
     "output_type": "execute_result"
    }
   ],
   "source": [
    "d[1,1]"
   ]
  },
  {
   "cell_type": "code",
   "execution_count": 51,
   "id": "23e5bece-25c6-4254-ab2e-97eb2d635b1d",
   "metadata": {},
   "outputs": [
    {
     "data": {
      "text/plain": [
       "array([[ 2,  3,  4,  5,  6],\n",
       "       [ 8,  2,  3, 10, 11],\n",
       "       [15, 14,  1,  9, 20],\n",
       "       [25, 24, 12, 16, 26]])"
      ]
     },
     "execution_count": 51,
     "metadata": {},
     "output_type": "execute_result"
    }
   ],
   "source": [
    "#task\n",
    "n=np.array([[2,3,4,5,6],\n",
    "            [8,2,3,10,11],\n",
    "            [15,14,1,9,20],\n",
    "            [25,24,12,16,26]])\n",
    "n"
   ]
  },
  {
   "cell_type": "code",
   "execution_count": 52,
   "id": "08640886-17c6-4805-a2cb-a124ef0628a7",
   "metadata": {},
   "outputs": [
    {
     "data": {
      "text/plain": [
       "array([[25, 24, 12, 16, 26]])"
      ]
     },
     "execution_count": 52,
     "metadata": {},
     "output_type": "execute_result"
    }
   ],
   "source": [
    "n[3:5]"
   ]
  },
  {
   "cell_type": "code",
   "execution_count": 53,
   "id": "c6a92411-1f7e-42e6-a86d-f0b0d4ba3417",
   "metadata": {},
   "outputs": [
    {
     "data": {
      "text/plain": [
       "array([[15, 14,  1,  9, 20],\n",
       "       [25, 24, 12, 16, 26]])"
      ]
     },
     "execution_count": 53,
     "metadata": {},
     "output_type": "execute_result"
    }
   ],
   "source": [
    "n[2:6]"
   ]
  },
  {
   "cell_type": "code",
   "execution_count": 54,
   "id": "8aa72df8-98b2-4249-9684-03378cf4c806",
   "metadata": {},
   "outputs": [
    {
     "data": {
      "text/plain": [
       "array([[ 9, 20],\n",
       "       [16, 26]])"
      ]
     },
     "execution_count": 54,
     "metadata": {},
     "output_type": "execute_result"
    }
   ],
   "source": [
    "n[2:,3:]"
   ]
  },
  {
   "cell_type": "code",
   "execution_count": 55,
   "id": "ed09ed69-9ee4-4028-8bac-ad72a14f54f5",
   "metadata": {},
   "outputs": [
    {
     "data": {
      "text/plain": [
       "array([[14,  1,  9],\n",
       "       [24, 12, 16]])"
      ]
     },
     "execution_count": 55,
     "metadata": {},
     "output_type": "execute_result"
    }
   ],
   "source": [
    "n[2:,1:4]"
   ]
  },
  {
   "cell_type": "code",
   "execution_count": 56,
   "id": "881aec2a-d8ca-48bb-9877-e8b91e9d2dd4",
   "metadata": {},
   "outputs": [
    {
     "data": {
      "text/plain": [
       "array([[ 2,  3],\n",
       "       [14,  1]])"
      ]
     },
     "execution_count": 56,
     "metadata": {},
     "output_type": "execute_result"
    }
   ],
   "source": [
    "n[1:3,1:3]"
   ]
  },
  {
   "cell_type": "code",
   "execution_count": 57,
   "id": "7ccc98ea-afca-4632-9f0a-c4daa10fbd70",
   "metadata": {},
   "outputs": [
    {
     "data": {
      "text/plain": [
       "array([[ 8,  2],\n",
       "       [15, 14]])"
      ]
     },
     "execution_count": 57,
     "metadata": {},
     "output_type": "execute_result"
    }
   ],
   "source": [
    "n[1:3,0:2]"
   ]
  },
  {
   "cell_type": "code",
   "execution_count": 58,
   "id": "6c194fbd-0547-4792-affa-6e2b5d624088",
   "metadata": {},
   "outputs": [
    {
     "data": {
      "text/plain": [
       "array([[ 5,  6],\n",
       "       [10, 11],\n",
       "       [ 9, 20]])"
      ]
     },
     "execution_count": 58,
     "metadata": {},
     "output_type": "execute_result"
    }
   ],
   "source": [
    "n[0:3,3:]"
   ]
  },
  {
   "cell_type": "code",
   "execution_count": 59,
   "id": "df9cc95c-d7bd-478c-8793-051d2c7f3eeb",
   "metadata": {},
   "outputs": [
    {
     "data": {
      "text/plain": [
       "array([[ 3,  4,  5],\n",
       "       [ 2,  3, 10]])"
      ]
     },
     "execution_count": 59,
     "metadata": {},
     "output_type": "execute_result"
    }
   ],
   "source": [
    "n[0:2,1:4]"
   ]
  },
  {
   "cell_type": "code",
   "execution_count": 60,
   "id": "866869f6-7e2c-4164-bb86-87e6b91d8445",
   "metadata": {},
   "outputs": [
    {
     "data": {
      "text/plain": [
       "array([[ 2,  3, 10],\n",
       "       [14,  1,  9]])"
      ]
     },
     "execution_count": 60,
     "metadata": {},
     "output_type": "execute_result"
    }
   ],
   "source": [
    "n[1:3,1:4]"
   ]
  },
  {
   "cell_type": "code",
   "execution_count": 61,
   "id": "d6c73474-5138-4077-bb23-ea98c47ec6b0",
   "metadata": {},
   "outputs": [
    {
     "data": {
      "text/plain": [
       "array([[[15, 10, 14, 16],\n",
       "        [16, 18, 15, 18]],\n",
       "\n",
       "       [[10, 17, 14, 12],\n",
       "        [11, 17, 16, 16]],\n",
       "\n",
       "       [[17, 18, 19, 12],\n",
       "        [12, 14, 12, 19]]])"
      ]
     },
     "execution_count": 61,
     "metadata": {},
     "output_type": "execute_result"
    }
   ],
   "source": [
    "t=np.random.randint(10,20,size=(3,2,4))\n",
    "t"
   ]
  },
  {
   "cell_type": "code",
   "execution_count": 62,
   "id": "52e149c2-ea85-4941-8cad-3fd482091637",
   "metadata": {},
   "outputs": [
    {
     "data": {
      "text/plain": [
       "array([[[10, 17, 14, 12],\n",
       "        [11, 17, 16, 16]],\n",
       "\n",
       "       [[17, 18, 19, 12],\n",
       "        [12, 14, 12, 19]]])"
      ]
     },
     "execution_count": 62,
     "metadata": {},
     "output_type": "execute_result"
    }
   ],
   "source": [
    "t[1:]"
   ]
  },
  {
   "cell_type": "code",
   "execution_count": 63,
   "id": "a1c5e052-16b6-461e-add9-371c87e58af4",
   "metadata": {},
   "outputs": [
    {
     "data": {
      "text/plain": [
       "array([[[10, 17, 14, 12]],\n",
       "\n",
       "       [[17, 18, 19, 12]]])"
      ]
     },
     "execution_count": 63,
     "metadata": {},
     "output_type": "execute_result"
    }
   ],
   "source": [
    "t[1:,0:1]"
   ]
  },
  {
   "cell_type": "code",
   "execution_count": 64,
   "id": "6ddef617-ee2c-40a2-af89-cfd47c50bc69",
   "metadata": {},
   "outputs": [
    {
     "data": {
      "text/plain": [
       "array([[[12]],\n",
       "\n",
       "       [[12]]])"
      ]
     },
     "execution_count": 64,
     "metadata": {},
     "output_type": "execute_result"
    }
   ],
   "source": [
    "t[1:,0:1,3:]"
   ]
  },
  {
   "cell_type": "code",
   "execution_count": 65,
   "id": "4d63b92d-7368-4e26-80c7-b4b349f85d56",
   "metadata": {},
   "outputs": [
    {
     "data": {
      "text/plain": [
       "array([[[18]],\n",
       "\n",
       "       [[17]]])"
      ]
     },
     "execution_count": 65,
     "metadata": {},
     "output_type": "execute_result"
    }
   ],
   "source": [
    "t[0:2,1:2,1:2]"
   ]
  },
  {
   "cell_type": "code",
   "execution_count": 66,
   "id": "2209812e-8995-4445-ac14-360cdbcfc1e5",
   "metadata": {},
   "outputs": [
    {
     "data": {
      "text/plain": [
       "array([[[19,  4, 19, 12],\n",
       "        [15, 17,  6, 12]],\n",
       "\n",
       "       [[ 4,  7, 16,  7],\n",
       "        [15,  8,  6, 14]],\n",
       "\n",
       "       [[ 3, 13, 12,  2],\n",
       "        [17,  5, 18, 14]]])"
      ]
     },
     "execution_count": 66,
     "metadata": {},
     "output_type": "execute_result"
    }
   ],
   "source": [
    "n=np.array([[[19,4,19,12],[15,17,6,12]],\n",
    "            [[4,7,16,7],[15,8,6,14]],\n",
    "            [[3,13,12,2],[17,5,18,14]]])\n",
    "n"
   ]
  },
  {
   "cell_type": "code",
   "execution_count": 67,
   "id": "57655c2a-973a-400a-8cfd-e07183022be0",
   "metadata": {},
   "outputs": [
    {
     "data": {
      "text/plain": [
       "array([[19],\n",
       "       [ 4],\n",
       "       [ 3]])"
      ]
     },
     "execution_count": 67,
     "metadata": {},
     "output_type": "execute_result"
    }
   ],
   "source": [
    "n[0:,0:1,0]"
   ]
  },
  {
   "cell_type": "code",
   "execution_count": 68,
   "id": "531331d1-a103-484e-9208-4ffffc534e43",
   "metadata": {},
   "outputs": [
    {
     "data": {
      "text/plain": [
       "array([[[19],\n",
       "        [ 6]],\n",
       "\n",
       "       [[16],\n",
       "        [ 6]]])"
      ]
     },
     "execution_count": 68,
     "metadata": {},
     "output_type": "execute_result"
    }
   ],
   "source": [
    "n[0:2,0:,2:3]"
   ]
  },
  {
   "cell_type": "code",
   "execution_count": 69,
   "id": "7cf6ec88-b8d4-4662-8fd0-7a80edf7fd9d",
   "metadata": {},
   "outputs": [
    {
     "data": {
      "text/plain": [
       "array([[19,  6],\n",
       "       [16,  6]])"
      ]
     },
     "execution_count": 69,
     "metadata": {},
     "output_type": "execute_result"
    }
   ],
   "source": [
    "n[0:2,0:,2]"
   ]
  },
  {
   "cell_type": "code",
   "execution_count": 70,
   "id": "28da6f26-bc14-4d89-90d8-5cb795af151d",
   "metadata": {},
   "outputs": [
    {
     "data": {
      "text/plain": [
       "array([[[ 7, 16],\n",
       "        [ 8,  6]],\n",
       "\n",
       "       [[13, 12],\n",
       "        [ 5, 18]]])"
      ]
     },
     "execution_count": 70,
     "metadata": {},
     "output_type": "execute_result"
    }
   ],
   "source": [
    "n[1:,0:,1:3]"
   ]
  },
  {
   "cell_type": "code",
   "execution_count": 71,
   "id": "cd17b560-3517-40b3-b06e-dd9b85607535",
   "metadata": {},
   "outputs": [
    {
     "data": {
      "text/plain": [
       "array([[[ 8,  6]],\n",
       "\n",
       "       [[ 5, 18]]])"
      ]
     },
     "execution_count": 71,
     "metadata": {},
     "output_type": "execute_result"
    }
   ],
   "source": [
    "n[1:,1:,1:3]"
   ]
  },
  {
   "cell_type": "code",
   "execution_count": 72,
   "id": "76db2cc6-31ed-4711-a7a3-e4399d5da7bb",
   "metadata": {},
   "outputs": [
    {
     "data": {
      "text/plain": [
       "array([[[ 4, 19, 12]],\n",
       "\n",
       "       [[ 7, 16,  7]]])"
      ]
     },
     "execution_count": 72,
     "metadata": {},
     "output_type": "execute_result"
    }
   ],
   "source": [
    "n[0:2,0:1,1:]"
   ]
  },
  {
   "cell_type": "code",
   "execution_count": 73,
   "id": "9f7e5a8b-f1de-4b83-b43a-4a4dbf532f46",
   "metadata": {},
   "outputs": [
    {
     "data": {
      "text/plain": [
       "array([[ 8, 12],\n",
       "       [12,  8],\n",
       "       [ 6, 15]])"
      ]
     },
     "execution_count": 73,
     "metadata": {},
     "output_type": "execute_result"
    }
   ],
   "source": [
    "o=np.random.randint(1,20,size=(3,2))\n",
    "o"
   ]
  },
  {
   "cell_type": "code",
   "execution_count": 74,
   "id": "5086fb3a-381a-4af2-a581-38cbb4ad27da",
   "metadata": {},
   "outputs": [
    {
     "data": {
      "text/plain": [
       "array([[ 8, 12,  6],\n",
       "       [12,  8, 15]])"
      ]
     },
     "execution_count": 74,
     "metadata": {},
     "output_type": "execute_result"
    }
   ],
   "source": [
    "np.transpose(o)"
   ]
  },
  {
   "cell_type": "code",
   "execution_count": 75,
   "id": "e3138bf0-4da0-4295-8cd5-90aa410458c6",
   "metadata": {},
   "outputs": [
    {
     "data": {
      "text/plain": [
       "array([ 2,  3,  7, 14, 13, 13, 16,  9])"
      ]
     },
     "execution_count": 75,
     "metadata": {},
     "output_type": "execute_result"
    }
   ],
   "source": [
    "m=np.random.randint(1,20,size=(8))\n",
    "m"
   ]
  },
  {
   "cell_type": "code",
   "execution_count": 76,
   "id": "5c666e93-5ca7-49f7-a169-6b2ac3f43e70",
   "metadata": {},
   "outputs": [
    {
     "data": {
      "text/plain": [
       "array([[ 2,  3,  7, 14],\n",
       "       [13, 13, 16,  9]])"
      ]
     },
     "execution_count": 76,
     "metadata": {},
     "output_type": "execute_result"
    }
   ],
   "source": [
    "m.reshape(2,4)"
   ]
  },
  {
   "cell_type": "code",
   "execution_count": 77,
   "id": "8873db93-bebe-40d6-9419-3aa823183754",
   "metadata": {},
   "outputs": [
    {
     "data": {
      "text/plain": [
       "array([[ 2,  3,  7, 14],\n",
       "       [13, 13, 16,  9]])"
      ]
     },
     "execution_count": 77,
     "metadata": {},
     "output_type": "execute_result"
    }
   ],
   "source": [
    "m.reshape(2,4)"
   ]
  }
 ],
 "metadata": {
  "kernelspec": {
   "display_name": "Python [conda env:base] *",
   "language": "python",
   "name": "conda-base-py"
  },
  "language_info": {
   "codemirror_mode": {
    "name": "ipython",
    "version": 3
   },
   "file_extension": ".py",
   "mimetype": "text/x-python",
   "name": "python",
   "nbconvert_exporter": "python",
   "pygments_lexer": "ipython3",
   "version": "3.12.7"
  }
 },
 "nbformat": 4,
 "nbformat_minor": 5
}
